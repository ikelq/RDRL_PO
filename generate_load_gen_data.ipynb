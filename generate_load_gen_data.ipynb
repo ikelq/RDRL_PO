{
 "cells": [
  {
   "cell_type": "code",
   "execution_count": 1,
   "id": "e295a5ad",
   "metadata": {},
   "outputs": [],
   "source": [
    "import numpy as np\n",
    "from scipy import interpolate\n",
    "import pylab as pl"
   ]
  },
  {
   "cell_type": "code",
   "execution_count": 2,
   "id": "648d0c81",
   "metadata": {},
   "outputs": [],
   "source": [
    "load_pu = np.load('load96.npy')\n",
    "gene_pu = np.load('gen96.npy')"
   ]
  },
  {
   "cell_type": "code",
   "execution_count": 3,
   "id": "0227abeb",
   "metadata": {},
   "outputs": [
    {
     "data": {
      "text/plain": [
       "(38496,)"
      ]
     },
     "execution_count": 3,
     "metadata": {},
     "output_type": "execute_result"
    }
   ],
   "source": [
    "load_pu.shape"
   ]
  },
  {
   "cell_type": "code",
   "execution_count": 6,
   "id": "b97ff80b",
   "metadata": {},
   "outputs": [],
   "source": [
    "for n_bus in [33,69,118]:\n",
    "    if n_bus == 33:\n",
    "        load_scale = 1\n",
    "        gen_scale = 1.5\n",
    "    if n_bus == 69:\n",
    "        load_scale = 1\n",
    "        gen_scale = 1.5\n",
    "    if n_bus == 69:\n",
    "        load_scale = 1\n",
    "        gen_scale = 2\n",
    "\n",
    "    x = np.arange(load_pu.shape[0])\n",
    "    f_load=interpolate.interp1d(x,load_pu,kind=\"quadratic\",axis = 0)\n",
    "    f_gen =interpolate.interp1d(x,gene_pu,kind=\"quadratic\",axis = 0)\n",
    "    x_new = np.arange(0,load_pu.shape[0]-1,1/15)\n",
    "    load_pu_1 = f_load(x_new)\n",
    "    gene_pu_1 = f_gen(x_new)\n",
    "    np.save('two'+str(n_bus)+'load_1.npy',load_pu_1[:96*15*110,:])\n",
    "    np.save('two'+str(n_bus)+'gen_1.npy',gene_pu_1[:96*15*110,:])"
   ]
  },
  {
   "cell_type": "code",
   "execution_count": 14,
   "id": "9fa1012f",
   "metadata": {},
   "outputs": [
    {
     "data": {
      "text/plain": [
       "(38496, 32)"
      ]
     },
     "execution_count": 14,
     "metadata": {},
     "output_type": "execute_result"
    }
   ],
   "source": [
    "load_pu.shape"
   ]
  },
  {
   "cell_type": "code",
   "execution_count": 15,
   "id": "1bf3921e",
   "metadata": {},
   "outputs": [
    {
     "data": {
      "text/plain": [
       "(577425, 32)"
      ]
     },
     "execution_count": 15,
     "metadata": {},
     "output_type": "execute_result"
    }
   ],
   "source": [
    "load_pu_1.shape"
   ]
  },
  {
   "cell_type": "code",
   "execution_count": 5,
   "id": "d564dff4",
   "metadata": {},
   "outputs": [
    {
     "data": {
      "text/plain": [
       "(158400, 32)"
      ]
     },
     "execution_count": 5,
     "metadata": {},
     "output_type": "execute_result"
    }
   ],
   "source": [
    "load_pu_1[:96*15*110,:].shape"
   ]
  },
  {
   "cell_type": "code",
   "execution_count": 17,
   "id": "209b3c0f",
   "metadata": {},
   "outputs": [
    {
     "data": {
      "text/plain": [
       "array([0.47572619, 0.49119258, 0.47839424, 0.38030014, 0.47678426,\n",
       "       0.5470123 , 0.52321492, 0.40099179, 0.43367424, 0.49339293,\n",
       "       0.51494836, 0.46533739, 0.52306552, 0.41398372, 0.48316308,\n",
       "       0.4818241 , 0.46698605, 0.52736748, 0.39955582, 0.50647949,\n",
       "       0.44622824, 0.44280461, 0.4626969 , 0.38287517, 0.45622334,\n",
       "       0.55198906, 0.39501406, 0.43731026, 0.47752566, 0.43975458,\n",
       "       0.46258296, 0.38087142])"
      ]
     },
     "execution_count": 17,
     "metadata": {},
     "output_type": "execute_result"
    }
   ],
   "source": [
    "load_pu[2,:]"
   ]
  },
  {
   "cell_type": "code",
   "execution_count": 19,
   "id": "a612b5a4",
   "metadata": {},
   "outputs": [
    {
     "data": {
      "text/plain": [
       "array([0.29968173, 0.3847922 , 0.40527874, 0.34645478, 0.40711238,\n",
       "       0.3639566 , 0.33642   , 0.38974555, 0.29922796, 0.4134124 ,\n",
       "       0.33386978, 0.41326576, 0.32823789, 0.32892374, 0.40103397,\n",
       "       0.4055169 , 0.37645963, 0.33030695, 0.29002425, 0.34294716,\n",
       "       0.3598669 , 0.28687168, 0.39656198, 0.40792651, 0.3046129 ,\n",
       "       0.32692665, 0.33248794, 0.41537035, 0.42866078, 0.39598128,\n",
       "       0.29193906, 0.42375783])"
      ]
     },
     "execution_count": 19,
     "metadata": {},
     "output_type": "execute_result"
    }
   ],
   "source": [
    "load_pu_1[30,:]"
   ]
  },
  {
   "cell_type": "code",
   "execution_count": null,
   "id": "b560963c",
   "metadata": {},
   "outputs": [],
   "source": []
  }
 ],
 "metadata": {
  "kernelspec": {
   "display_name": "Python 3 (ipykernel)",
   "language": "python",
   "name": "python3"
  },
  "language_info": {
   "codemirror_mode": {
    "name": "ipython",
    "version": 3
   },
   "file_extension": ".py",
   "mimetype": "text/x-python",
   "name": "python",
   "nbconvert_exporter": "python",
   "pygments_lexer": "ipython3",
   "version": "3.8.12"
  }
 },
 "nbformat": 4,
 "nbformat_minor": 5
}
